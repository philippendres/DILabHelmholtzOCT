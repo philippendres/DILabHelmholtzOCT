{
 "cells": [
  {
   "cell_type": "code",
   "execution_count": 2,
   "id": "initial_id",
   "metadata": {
    "collapsed": true,
    "ExecuteTime": {
     "end_time": "2023-11-16T16:56:24.170318200Z",
     "start_time": "2023-11-16T16:56:16.556563Z"
    }
   },
   "outputs": [],
   "source": [
    "import numpy as np\n",
    "import pandas as pd\n",
    "import os\n",
    "from scipy.io import loadmat\n",
    "from matplotlib import pyplot as plt\n",
    "from glob import glob\n",
    "from os import path"
   ]
  },
  {
   "cell_type": "code",
   "execution_count": 3,
   "outputs": [
    {
     "name": "stdout",
     "output_type": "stream",
     "text": [
      "..\\data\\Kaggle\\Farsiu_Ophthalmology_2013_AMD_Subject_1001.mat\\Farsiu_Ophthalmology_2013_AMD_Subject_1001.mat\n",
      "..\\data\\Kaggle\\Farsiu_Ophthalmology_2013_AMD_Subject_1002.mat\\Farsiu_Ophthalmology_2013_AMD_Subject_1002.mat\n",
      "..\\data\\Kaggle\\Farsiu_Ophthalmology_2013_AMD_Subject_1003.mat\\Farsiu_Ophthalmology_2013_AMD_Subject_1003.mat\n",
      "..\\data\\Kaggle\\Farsiu_Ophthalmology_2013_AMD_Subject_1004.mat\\Farsiu_Ophthalmology_2013_AMD_Subject_1004.mat\n",
      "..\\data\\Kaggle\\Farsiu_Ophthalmology_2013_AMD_Subject_1005.mat\\Farsiu_Ophthalmology_2013_AMD_Subject_1005.mat\n",
      "..\\data\\Kaggle\\Farsiu_Ophthalmology_2013_AMD_Subject_1006.mat\\Farsiu_Ophthalmology_2013_AMD_Subject_1006.mat\n",
      "..\\data\\Kaggle\\Farsiu_Ophthalmology_2013_AMD_Subject_1007.mat\\Farsiu_Ophthalmology_2013_AMD_Subject_1007.mat\n",
      "..\\data\\Kaggle\\Farsiu_Ophthalmology_2013_AMD_Subject_1008.mat\\Farsiu_Ophthalmology_2013_AMD_Subject_1008.mat\n",
      "..\\data\\Kaggle\\Farsiu_Ophthalmology_2013_AMD_Subject_1009.mat\\Farsiu_Ophthalmology_2013_AMD_Subject_1009.mat\n",
      "..\\data\\Kaggle\\Farsiu_Ophthalmology_2013_AMD_Subject_1010.mat\\Farsiu_Ophthalmology_2013_AMD_Subject_1010.mat\n"
     ]
    }
   ],
   "source": [
    "for dirname, _, filenames in os.walk('..\\data\\Kaggle'):\n",
    "    for filename in filenames:\n",
    "        print(os.path.join(dirname, filename))"
   ],
   "metadata": {
    "collapsed": false,
    "ExecuteTime": {
     "end_time": "2023-11-16T15:25:25.097949100Z",
     "start_time": "2023-11-16T15:25:25.080811900Z"
    }
   },
   "id": "a7173de10ab28d75"
  },
  {
   "cell_type": "code",
   "execution_count": 3,
   "outputs": [],
   "source": [
    "mat_fps = glob(path.join('..\\data\\Kaggle\\Farsiu_Ophthalmology_2013_AMD_Subject_1008.mat\\\\', '*.mat'))"
   ],
   "metadata": {
    "collapsed": false,
    "ExecuteTime": {
     "end_time": "2023-11-16T16:56:24.288735800Z",
     "start_time": "2023-11-16T16:56:24.176488900Z"
    }
   },
   "id": "4b06c72ec800d55b"
  },
  {
   "cell_type": "code",
   "execution_count": 57,
   "outputs": [],
   "source": [
    "mat_dme = glob(path.join('..\\data\\Kaggle\\\\', 'Subject_01.mat'))"
   ],
   "metadata": {
    "collapsed": false,
    "ExecuteTime": {
     "end_time": "2023-11-16T17:35:08.430212100Z",
     "start_time": "2023-11-16T17:35:08.412499Z"
    }
   },
   "id": "bcab73999f2bb25b"
  },
  {
   "cell_type": "code",
   "execution_count": 53,
   "outputs": [],
   "source": [
    "mat = loadmat(mat_fps[0])"
   ],
   "metadata": {
    "collapsed": false,
    "ExecuteTime": {
     "end_time": "2023-11-16T17:34:13.880107600Z",
     "start_time": "2023-11-16T17:34:12.957646400Z"
    }
   },
   "id": "80b0d96852fc5183"
  },
  {
   "cell_type": "code",
   "execution_count": 58,
   "outputs": [],
   "source": [
    "mat = loadmat(mat_dme[0])"
   ],
   "metadata": {
    "collapsed": false,
    "ExecuteTime": {
     "end_time": "2023-11-16T17:35:13.694169Z",
     "start_time": "2023-11-16T17:35:10.287564800Z"
    }
   },
   "id": "be505622147e610"
  },
  {
   "cell_type": "code",
   "execution_count": 59,
   "outputs": [],
   "source": [
    "segmentation_classes = 8"
   ],
   "metadata": {
    "collapsed": false,
    "ExecuteTime": {
     "end_time": "2023-11-16T17:35:24.834558900Z",
     "start_time": "2023-11-16T17:35:24.753360200Z"
    }
   },
   "id": "cb40ffc40f4c0b1e"
  },
  {
   "cell_type": "code",
   "execution_count": 61,
   "outputs": [],
   "source": [
    "#get the valid masks:\n",
    "def get_valid_idx(layerMap):\n",
    "    idx = []\n",
    "    for i in range(0,61):\n",
    "        temp = layerMap[:,:,i]\n",
    "        if np.sum(temp) != 0:\n",
    "            idx.append(i)\n",
    "    return idx"
   ],
   "metadata": {
    "collapsed": false,
    "ExecuteTime": {
     "end_time": "2023-11-16T17:37:43.311998500Z",
     "start_time": "2023-11-16T17:37:43.265357900Z"
    }
   },
   "id": "93cc36cfbb9b97f"
  },
  {
   "cell_type": "code",
   "execution_count": 74,
   "outputs": [
    {
     "name": "stdout",
     "output_type": "stream",
     "text": [
      "(8, 768, 11)\n"
     ]
    },
    {
     "name": "stderr",
     "output_type": "stream",
     "text": [
      "C:\\Users\\phili\\AppData\\Local\\Temp\\ipykernel_26640\\1472225571.py:1: RuntimeWarning: invalid value encountered in cast\n",
      "  layerMaps = np.array(mat['manualLayers2'], dtype=np.uint16)\n"
     ]
    }
   ],
   "source": [
    "\n",
    "layerMaps = np.array(mat['manualLayers2'], dtype=np.uint16)\n",
    "img = np.array(mat['images'], dtype=np.uint8)\n",
    "valid_idx = get_valid_idx(layerMaps)\n",
    "\n",
    "layerMaps = layerMaps[:,:,valid_idx]\n",
    "\n",
    "print(layerMaps.shape)"
   ],
   "metadata": {
    "collapsed": false,
    "ExecuteTime": {
     "end_time": "2023-11-16T17:44:57.168972Z",
     "start_time": "2023-11-16T17:44:57.120055900Z"
    }
   },
   "id": "b5f02882e37d3bd2"
  },
  {
   "cell_type": "code",
   "execution_count": 74,
   "outputs": [],
   "source": [],
   "metadata": {
    "collapsed": false,
    "ExecuteTime": {
     "end_time": "2023-11-16T17:44:58.130254700Z",
     "start_time": "2023-11-16T17:44:58.112827100Z"
    }
   },
   "id": "9640f9a6d229ab1a"
  },
  {
   "cell_type": "code",
   "execution_count": 76,
   "outputs": [],
   "source": [
    "def get_valid_img_seg(mat):\n",
    "    layerMaps = np.array(mat['manualLayers2'], dtype=np.uint16)\n",
    "    img = np.array(mat['images'], dtype=np.uint8)\n",
    "    valid_idx = get_valid_idx(layerMaps)\n",
    "    \n",
    "    layerMaps = layerMaps[:, :, valid_idx]\n",
    "\n",
    "    seg = np.zeros((496, 768, 11))\n",
    "    max_col = -100\n",
    "    min_col = 1100\n",
    "    for idx in range(0, 11):\n",
    "        for col in range(768):\n",
    "            cur_col = layerMaps[:, col, idx]\n",
    "            if np.sum(cur_col) == 0:\n",
    "                continue\n",
    "\n",
    "            max_col = max(max_col, col)\n",
    "            min_col = min(min_col, col)\n",
    "\n",
    "            labels_idx = cur_col.tolist()\n",
    "            last_st = None\n",
    "            last_ed = None\n",
    "            for label, (st, ed) in enumerate(zip([0]+labels_idx, labels_idx+[-1])):\n",
    "                \n",
    "                #seg[st:ed, col, idx] = label\n",
    "                if st == 0 and ed == 0:\n",
    "                    st = last_ed\n",
    "                    \n",
    "                if ed == 0:\n",
    "                    ed = st + 1\n",
    "\n",
    "                if st == 0 and label != 0:\n",
    "                    st = ed-1\n",
    "                    st += 1\n",
    "\n",
    "                seg[st:ed, col, idx] = label\n",
    "                last_st = st\n",
    "                last_ed = ed\n",
    "            \n",
    "    seg = seg[:, min_col:max_col+1]\n",
    "    img = img[:, min_col:max_col+1]\n",
    "    return img, seg"
   ],
   "metadata": {
    "collapsed": false,
    "ExecuteTime": {
     "end_time": "2023-11-16T17:45:06.784034200Z",
     "start_time": "2023-11-16T17:45:06.741823700Z"
    }
   },
   "id": "1ceb4fd2720d2b35"
  },
  {
   "cell_type": "code",
   "execution_count": 77,
   "outputs": [
    {
     "name": "stderr",
     "output_type": "stream",
     "text": [
      "C:\\Users\\phili\\AppData\\Local\\Temp\\ipykernel_26640\\1721848835.py:2: RuntimeWarning: invalid value encountered in cast\n",
      "  layerMaps = np.array(mat['manualLayers2'], dtype=np.uint16)\n"
     ]
    }
   ],
   "source": [
    "img, seg = get_valid_img_seg(mat)"
   ],
   "metadata": {
    "collapsed": false,
    "ExecuteTime": {
     "end_time": "2023-11-16T17:45:07.721750900Z",
     "start_time": "2023-11-16T17:45:07.318625100Z"
    }
   },
   "id": "1bdcd1094e35f584"
  },
  {
   "cell_type": "code",
   "execution_count": 82,
   "outputs": [
    {
     "data": {
      "text/plain": "<matplotlib.image.AxesImage at 0x2434901e410>"
     },
     "execution_count": 82,
     "metadata": {},
     "output_type": "execute_result"
    },
    {
     "data": {
      "text/plain": "<Figure size 640x480 with 1 Axes>",
      "image/png": "[encoded data removed]"
     },
     "metadata": {},
     "output_type": "display_data"
    }
   ],
   "source": [
    "plt.imshow(seg[:, :, 1], cmap=plt.cm.jet, vmax=9)"
   ],
   "metadata": {
    "collapsed": false,
    "ExecuteTime": {
     "end_time": "2023-11-16T17:46:08.456722300Z",
     "start_time": "2023-11-16T17:46:07.591115800Z"
    }
   },
   "id": "1a3de6ee6217a6d4"
  },
  {
   "cell_type": "code",
   "execution_count": 43,
   "outputs": [
    {
     "data": {
      "text/plain": "(array([283, 284, 284, 284, 285, 285, 285, 285, 285, 286, 286, 286, 286,\n        286, 286, 286, 286, 287, 287, 287, 287, 287, 287, 287, 287, 287,\n        287, 288, 288, 288, 288, 288, 288, 288, 288, 288, 288, 288, 288,\n        289, 289, 289, 289, 289, 289, 289, 289, 289, 289, 289, 289, 289,\n        289, 289, 290, 290, 290, 290, 290, 290, 290, 290, 290, 290, 290,\n        290, 290, 290, 290, 290, 290, 291, 291, 291, 291, 291, 291, 291,\n        291, 291, 291, 291, 291, 291, 291, 291, 291, 291, 292, 292, 292,\n        292, 292, 292, 292, 292, 292, 292, 292, 292, 292, 292, 292, 292,\n        292, 293, 293, 293, 293, 293, 293, 293, 293, 293, 293, 293, 293,\n        293, 293, 293, 293, 293, 294, 294, 294, 294, 294, 294, 294, 294,\n        294, 294, 294, 294, 294, 294, 294, 294, 294, 295, 295, 295, 295,\n        295, 295, 295, 295, 295, 295, 295, 295, 295, 295, 295, 295, 295,\n        296, 296, 296, 296, 296, 296, 296, 296, 296, 296, 296, 296, 296,\n        296, 296, 296, 296, 297, 297, 297, 297, 297, 297, 297, 297, 297,\n        297, 297, 297, 297, 297, 297, 297, 297, 298, 298, 298, 298, 298,\n        298, 298, 298, 298, 298, 298, 298, 298, 298, 298, 298, 298, 299,\n        299, 299, 299, 299, 299, 299, 299, 299, 299, 299, 299, 299, 299,\n        299, 299, 299, 300, 300, 300, 300, 300, 300, 300, 300, 300, 300,\n        300, 300, 300, 300, 300, 300, 300, 301, 301, 301, 301, 301, 301,\n        301, 301], dtype=int64),\n array([349, 349, 350, 351, 349, 350, 351, 352, 353, 349, 350, 351, 352,\n        353, 354, 355, 356, 349, 350, 351, 352, 353, 354, 355, 356, 357,\n        358, 349, 350, 351, 352, 353, 354, 355, 356, 357, 358, 359, 360,\n        349, 350, 351, 352, 353, 354, 355, 356, 357, 358, 359, 360, 361,\n        362, 363, 349, 350, 351, 352, 353, 354, 355, 356, 357, 358, 359,\n        360, 361, 362, 363, 364, 365, 349, 350, 351, 352, 353, 354, 355,\n        356, 357, 358, 359, 360, 361, 362, 363, 364, 365, 349, 350, 351,\n        352, 353, 354, 355, 356, 357, 358, 359, 360, 361, 362, 363, 364,\n        365, 349, 350, 351, 352, 353, 354, 355, 356, 357, 358, 359, 360,\n        361, 362, 363, 364, 365, 349, 350, 351, 352, 353, 354, 355, 356,\n        357, 358, 359, 360, 361, 362, 363, 364, 365, 349, 350, 351, 352,\n        353, 354, 355, 356, 357, 358, 359, 360, 361, 362, 363, 364, 365,\n        349, 350, 351, 352, 353, 354, 355, 356, 357, 358, 359, 360, 361,\n        362, 363, 364, 365, 349, 350, 351, 352, 353, 354, 355, 356, 357,\n        358, 359, 360, 361, 362, 363, 364, 365, 349, 350, 351, 352, 353,\n        354, 355, 356, 357, 358, 359, 360, 361, 362, 363, 364, 365, 349,\n        350, 351, 352, 353, 354, 355, 356, 357, 358, 359, 360, 361, 362,\n        363, 364, 365, 349, 350, 351, 352, 353, 354, 355, 356, 357, 358,\n        359, 360, 361, 362, 363, 364, 365, 349, 350, 351, 352, 353, 354,\n        355, 356], dtype=int64))"
     },
     "execution_count": 43,
     "metadata": {},
     "output_type": "execute_result"
    }
   ],
   "source": [
    "np.where(seg[:, :, 0]==2)"
   ],
   "metadata": {
    "collapsed": false,
    "ExecuteTime": {
     "end_time": "2023-11-16T17:19:59.188915200Z",
     "start_time": "2023-11-16T17:19:59.124958100Z"
    }
   },
   "id": "fea8b994dc52e44d"
  },
  {
   "cell_type": "code",
   "execution_count": null,
   "outputs": [],
   "source": [],
   "metadata": {
    "collapsed": false
   },
   "id": "cd646ca9f0799a7c"
  }
 ],
 "metadata": {
  "kernelspec": {
   "display_name": "Python 3",
   "language": "python",
   "name": "python3"
  },
  "language_info": {
   "codemirror_mode": {
    "name": "ipython",
    "version": 2
   },
   "file_extension": ".py",
   "mimetype": "text/x-python",
   "name": "python",
   "nbconvert_exporter": "python",
   "pygments_lexer": "ipython2",
   "version": "2.7.6"
  }
 },
 "nbformat": 4,
 "nbformat_minor": 5
}
